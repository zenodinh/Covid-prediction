{
 "cells": [
  {
   "cell_type": "code",
   "execution_count": 18,
   "id": "b0b2b7bb",
   "metadata": {},
   "outputs": [],
   "source": [
    "#install library\n",
    "import pandas as pd"
   ]
  },
  {
   "cell_type": "code",
   "execution_count": 19,
   "id": "d93ff7f5",
   "metadata": {},
   "outputs": [],
   "source": [
    "# Read data from csv\n",
    "train_data = pd.read_csv('train_data.csv')\n",
    "test_data = pd.read_csv('test_data.csv')"
   ]
  },
  {
   "cell_type": "code",
   "execution_count": 20,
   "id": "5178aacd-44a7-419a-b619-73e4334dc4f2",
   "metadata": {},
   "outputs": [
    {
     "data": {
      "text/html": [
       "<div>\n",
       "<style scoped>\n",
       "    .dataframe tbody tr th:only-of-type {\n",
       "        vertical-align: middle;\n",
       "    }\n",
       "\n",
       "    .dataframe tbody tr th {\n",
       "        vertical-align: top;\n",
       "    }\n",
       "\n",
       "    .dataframe thead th {\n",
       "        text-align: right;\n",
       "    }\n",
       "</style>\n",
       "<table border=\"1\" class=\"dataframe\">\n",
       "  <thead>\n",
       "    <tr style=\"text-align: right;\">\n",
       "      <th></th>\n",
       "      <th>day</th>\n",
       "      <th>case_by_day</th>\n",
       "      <th>death_by_day</th>\n",
       "      <th>twice_injected_by_time</th>\n",
       "      <th>residential_percent_change_from_baseline</th>\n",
       "    </tr>\n",
       "  </thead>\n",
       "  <tbody>\n",
       "    <tr>\n",
       "      <th>0</th>\n",
       "      <td>13/09/2021</td>\n",
       "      <td>5446</td>\n",
       "      <td>228</td>\n",
       "      <td>1542655</td>\n",
       "      <td>19.0</td>\n",
       "    </tr>\n",
       "    <tr>\n",
       "      <th>1</th>\n",
       "      <td>14/09/2021</td>\n",
       "      <td>6312</td>\n",
       "      <td>199</td>\n",
       "      <td>1645980</td>\n",
       "      <td>18.0</td>\n",
       "    </tr>\n",
       "    <tr>\n",
       "      <th>2</th>\n",
       "      <td>15/09/2021</td>\n",
       "      <td>5301</td>\n",
       "      <td>189</td>\n",
       "      <td>1732155</td>\n",
       "      <td>16.0</td>\n",
       "    </tr>\n",
       "    <tr>\n",
       "      <th>3</th>\n",
       "      <td>16/09/2021</td>\n",
       "      <td>5735</td>\n",
       "      <td>160</td>\n",
       "      <td>1835394</td>\n",
       "      <td>14.0</td>\n",
       "    </tr>\n",
       "    <tr>\n",
       "      <th>4</th>\n",
       "      <td>17/09/2021</td>\n",
       "      <td>5972</td>\n",
       "      <td>166</td>\n",
       "      <td>1835394</td>\n",
       "      <td>19.0</td>\n",
       "    </tr>\n",
       "    <tr>\n",
       "      <th>...</th>\n",
       "      <td>...</td>\n",
       "      <td>...</td>\n",
       "      <td>...</td>\n",
       "      <td>...</td>\n",
       "      <td>...</td>\n",
       "    </tr>\n",
       "    <tr>\n",
       "      <th>113</th>\n",
       "      <td>9/1/2022</td>\n",
       "      <td>472</td>\n",
       "      <td>15</td>\n",
       "      <td>7249758</td>\n",
       "      <td>NaN</td>\n",
       "    </tr>\n",
       "    <tr>\n",
       "      <th>114</th>\n",
       "      <td>10/1/2022</td>\n",
       "      <td>437</td>\n",
       "      <td>17</td>\n",
       "      <td>7306273</td>\n",
       "      <td>NaN</td>\n",
       "    </tr>\n",
       "    <tr>\n",
       "      <th>115</th>\n",
       "      <td>11/1/2022</td>\n",
       "      <td>558</td>\n",
       "      <td>11</td>\n",
       "      <td>7306273</td>\n",
       "      <td>NaN</td>\n",
       "    </tr>\n",
       "    <tr>\n",
       "      <th>116</th>\n",
       "      <td>12/1/2022</td>\n",
       "      <td>696</td>\n",
       "      <td>14</td>\n",
       "      <td>7327366</td>\n",
       "      <td>NaN</td>\n",
       "    </tr>\n",
       "    <tr>\n",
       "      <th>117</th>\n",
       "      <td>13/1/2022</td>\n",
       "      <td>0</td>\n",
       "      <td>0</td>\n",
       "      <td>7327366</td>\n",
       "      <td>NaN</td>\n",
       "    </tr>\n",
       "  </tbody>\n",
       "</table>\n",
       "<p>118 rows × 5 columns</p>\n",
       "</div>"
      ],
      "text/plain": [
       "            day  case_by_day  death_by_day  twice_injected_by_time  \\\n",
       "0    13/09/2021         5446           228                 1542655   \n",
       "1    14/09/2021         6312           199                 1645980   \n",
       "2    15/09/2021         5301           189                 1732155   \n",
       "3    16/09/2021         5735           160                 1835394   \n",
       "4    17/09/2021         5972           166                 1835394   \n",
       "..          ...          ...           ...                     ...   \n",
       "113    9/1/2022          472            15                 7249758   \n",
       "114   10/1/2022          437            17                 7306273   \n",
       "115   11/1/2022          558            11                 7306273   \n",
       "116   12/1/2022          696            14                 7327366   \n",
       "117   13/1/2022            0             0                 7327366   \n",
       "\n",
       "     residential_percent_change_from_baseline  \n",
       "0                                        19.0  \n",
       "1                                        18.0  \n",
       "2                                        16.0  \n",
       "3                                        14.0  \n",
       "4                                        19.0  \n",
       "..                                        ...  \n",
       "113                                       NaN  \n",
       "114                                       NaN  \n",
       "115                                       NaN  \n",
       "116                                       NaN  \n",
       "117                                       NaN  \n",
       "\n",
       "[118 rows x 5 columns]"
      ]
     },
     "execution_count": 20,
     "metadata": {},
     "output_type": "execute_result"
    }
   ],
   "source": [
    "# print train data\n",
    "train_data"
   ]
  },
  {
   "cell_type": "code",
   "execution_count": 21,
   "id": "160161ac-c6aa-4240-8088-26ce58456b28",
   "metadata": {},
   "outputs": [
    {
     "data": {
      "text/html": [
       "<div>\n",
       "<style scoped>\n",
       "    .dataframe tbody tr th:only-of-type {\n",
       "        vertical-align: middle;\n",
       "    }\n",
       "\n",
       "    .dataframe tbody tr th {\n",
       "        vertical-align: top;\n",
       "    }\n",
       "\n",
       "    .dataframe thead th {\n",
       "        text-align: right;\n",
       "    }\n",
       "</style>\n",
       "<table border=\"1\" class=\"dataframe\">\n",
       "  <thead>\n",
       "    <tr style=\"text-align: right;\">\n",
       "      <th></th>\n",
       "      <th>day</th>\n",
       "      <th>case_by_day</th>\n",
       "      <th>death_by_day</th>\n",
       "      <th>twice_injected_by_time</th>\n",
       "      <th>residential_percent_change_from_baseline</th>\n",
       "    </tr>\n",
       "  </thead>\n",
       "  <tbody>\n",
       "    <tr>\n",
       "      <th>0</th>\n",
       "      <td>7/12/2021</td>\n",
       "      <td>965</td>\n",
       "      <td>53</td>\n",
       "      <td>6795458</td>\n",
       "      <td>-1</td>\n",
       "    </tr>\n",
       "    <tr>\n",
       "      <th>1</th>\n",
       "      <td>20/12/2021</td>\n",
       "      <td>687</td>\n",
       "      <td>50</td>\n",
       "      <td>6881361</td>\n",
       "      <td>-2</td>\n",
       "    </tr>\n",
       "    <tr>\n",
       "      <th>2</th>\n",
       "      <td>23/11/2021</td>\n",
       "      <td>1204</td>\n",
       "      <td>62</td>\n",
       "      <td>6053986</td>\n",
       "      <td>0</td>\n",
       "    </tr>\n",
       "    <tr>\n",
       "      <th>3</th>\n",
       "      <td>21/9/2021</td>\n",
       "      <td>6521</td>\n",
       "      <td>184</td>\n",
       "      <td>2052403</td>\n",
       "      <td>14</td>\n",
       "    </tr>\n",
       "    <tr>\n",
       "      <th>4</th>\n",
       "      <td>27/11/2021</td>\n",
       "      <td>1773</td>\n",
       "      <td>57</td>\n",
       "      <td>6547118</td>\n",
       "      <td>3</td>\n",
       "    </tr>\n",
       "  </tbody>\n",
       "</table>\n",
       "</div>"
      ],
      "text/plain": [
       "          day  case_by_day  death_by_day  twice_injected_by_time  \\\n",
       "0   7/12/2021          965            53                 6795458   \n",
       "1  20/12/2021          687            50                 6881361   \n",
       "2  23/11/2021         1204            62                 6053986   \n",
       "3   21/9/2021         6521           184                 2052403   \n",
       "4  27/11/2021         1773            57                 6547118   \n",
       "\n",
       "   residential_percent_change_from_baseline  \n",
       "0                                        -1  \n",
       "1                                        -2  \n",
       "2                                         0  \n",
       "3                                        14  \n",
       "4                                         3  "
      ]
     },
     "execution_count": 21,
     "metadata": {},
     "output_type": "execute_result"
    }
   ],
   "source": [
    "#print test data\n",
    "test_data"
   ]
  },
  {
   "cell_type": "code",
   "execution_count": 22,
   "id": "1b3e6625",
   "metadata": {},
   "outputs": [
    {
     "data": {
      "text/plain": [
       "1"
      ]
     },
     "execution_count": 22,
     "metadata": {},
     "output_type": "execute_result"
    }
   ],
   "source": [
    "import math\n",
    "train_median_percent = math.floor(train_data.residential_percent_change_from_baseline.median())\n",
    "train_median_percent"
   ]
  },
  {
   "cell_type": "code",
   "execution_count": 23,
   "id": "255a562a-9e08-4026-955b-ee3338f86808",
   "metadata": {},
   "outputs": [
    {
     "data": {
      "text/plain": [
       "0"
      ]
     },
     "execution_count": 23,
     "metadata": {},
     "output_type": "execute_result"
    }
   ],
   "source": [
    "import math\n",
    "test_median_percent = math.floor(test_data.residential_percent_change_from_baseline.median())\n",
    "test_median_percent"
   ]
  },
  {
   "cell_type": "code",
   "execution_count": 24,
   "id": "749612c9",
   "metadata": {},
   "outputs": [
    {
     "data": {
      "text/html": [
       "<div>\n",
       "<style scoped>\n",
       "    .dataframe tbody tr th:only-of-type {\n",
       "        vertical-align: middle;\n",
       "    }\n",
       "\n",
       "    .dataframe tbody tr th {\n",
       "        vertical-align: top;\n",
       "    }\n",
       "\n",
       "    .dataframe thead th {\n",
       "        text-align: right;\n",
       "    }\n",
       "</style>\n",
       "<table border=\"1\" class=\"dataframe\">\n",
       "  <thead>\n",
       "    <tr style=\"text-align: right;\">\n",
       "      <th></th>\n",
       "      <th>day</th>\n",
       "      <th>case_by_day</th>\n",
       "      <th>death_by_day</th>\n",
       "      <th>twice_injected_by_time</th>\n",
       "      <th>residential_percent_change_from_baseline</th>\n",
       "    </tr>\n",
       "  </thead>\n",
       "  <tbody>\n",
       "    <tr>\n",
       "      <th>0</th>\n",
       "      <td>13/09/2021</td>\n",
       "      <td>5446</td>\n",
       "      <td>228</td>\n",
       "      <td>1542655</td>\n",
       "      <td>19.0</td>\n",
       "    </tr>\n",
       "    <tr>\n",
       "      <th>1</th>\n",
       "      <td>14/09/2021</td>\n",
       "      <td>6312</td>\n",
       "      <td>199</td>\n",
       "      <td>1645980</td>\n",
       "      <td>18.0</td>\n",
       "    </tr>\n",
       "    <tr>\n",
       "      <th>2</th>\n",
       "      <td>15/09/2021</td>\n",
       "      <td>5301</td>\n",
       "      <td>189</td>\n",
       "      <td>1732155</td>\n",
       "      <td>16.0</td>\n",
       "    </tr>\n",
       "    <tr>\n",
       "      <th>3</th>\n",
       "      <td>16/09/2021</td>\n",
       "      <td>5735</td>\n",
       "      <td>160</td>\n",
       "      <td>1835394</td>\n",
       "      <td>14.0</td>\n",
       "    </tr>\n",
       "    <tr>\n",
       "      <th>4</th>\n",
       "      <td>17/09/2021</td>\n",
       "      <td>5972</td>\n",
       "      <td>166</td>\n",
       "      <td>1835394</td>\n",
       "      <td>19.0</td>\n",
       "    </tr>\n",
       "    <tr>\n",
       "      <th>...</th>\n",
       "      <td>...</td>\n",
       "      <td>...</td>\n",
       "      <td>...</td>\n",
       "      <td>...</td>\n",
       "      <td>...</td>\n",
       "    </tr>\n",
       "    <tr>\n",
       "      <th>113</th>\n",
       "      <td>9/1/2022</td>\n",
       "      <td>472</td>\n",
       "      <td>15</td>\n",
       "      <td>7249758</td>\n",
       "      <td>1.0</td>\n",
       "    </tr>\n",
       "    <tr>\n",
       "      <th>114</th>\n",
       "      <td>10/1/2022</td>\n",
       "      <td>437</td>\n",
       "      <td>17</td>\n",
       "      <td>7306273</td>\n",
       "      <td>1.0</td>\n",
       "    </tr>\n",
       "    <tr>\n",
       "      <th>115</th>\n",
       "      <td>11/1/2022</td>\n",
       "      <td>558</td>\n",
       "      <td>11</td>\n",
       "      <td>7306273</td>\n",
       "      <td>1.0</td>\n",
       "    </tr>\n",
       "    <tr>\n",
       "      <th>116</th>\n",
       "      <td>12/1/2022</td>\n",
       "      <td>696</td>\n",
       "      <td>14</td>\n",
       "      <td>7327366</td>\n",
       "      <td>1.0</td>\n",
       "    </tr>\n",
       "    <tr>\n",
       "      <th>117</th>\n",
       "      <td>13/1/2022</td>\n",
       "      <td>0</td>\n",
       "      <td>0</td>\n",
       "      <td>7327366</td>\n",
       "      <td>1.0</td>\n",
       "    </tr>\n",
       "  </tbody>\n",
       "</table>\n",
       "<p>118 rows × 5 columns</p>\n",
       "</div>"
      ],
      "text/plain": [
       "            day  case_by_day  death_by_day  twice_injected_by_time  \\\n",
       "0    13/09/2021         5446           228                 1542655   \n",
       "1    14/09/2021         6312           199                 1645980   \n",
       "2    15/09/2021         5301           189                 1732155   \n",
       "3    16/09/2021         5735           160                 1835394   \n",
       "4    17/09/2021         5972           166                 1835394   \n",
       "..          ...          ...           ...                     ...   \n",
       "113    9/1/2022          472            15                 7249758   \n",
       "114   10/1/2022          437            17                 7306273   \n",
       "115   11/1/2022          558            11                 7306273   \n",
       "116   12/1/2022          696            14                 7327366   \n",
       "117   13/1/2022            0             0                 7327366   \n",
       "\n",
       "     residential_percent_change_from_baseline  \n",
       "0                                        19.0  \n",
       "1                                        18.0  \n",
       "2                                        16.0  \n",
       "3                                        14.0  \n",
       "4                                        19.0  \n",
       "..                                        ...  \n",
       "113                                       1.0  \n",
       "114                                       1.0  \n",
       "115                                       1.0  \n",
       "116                                       1.0  \n",
       "117                                       1.0  \n",
       "\n",
       "[118 rows x 5 columns]"
      ]
     },
     "execution_count": 24,
     "metadata": {},
     "output_type": "execute_result"
    }
   ],
   "source": [
    "train_data.residential_percent_change_from_baseline = train_data.residential_percent_change_from_baseline.fillna(train_median_percent)\n",
    "train_data"
   ]
  },
  {
   "cell_type": "code",
   "execution_count": 25,
   "id": "c431a050-812e-46ab-9f68-8c28ebce019d",
   "metadata": {},
   "outputs": [
    {
     "data": {
      "text/html": [
       "<div>\n",
       "<style scoped>\n",
       "    .dataframe tbody tr th:only-of-type {\n",
       "        vertical-align: middle;\n",
       "    }\n",
       "\n",
       "    .dataframe tbody tr th {\n",
       "        vertical-align: top;\n",
       "    }\n",
       "\n",
       "    .dataframe thead th {\n",
       "        text-align: right;\n",
       "    }\n",
       "</style>\n",
       "<table border=\"1\" class=\"dataframe\">\n",
       "  <thead>\n",
       "    <tr style=\"text-align: right;\">\n",
       "      <th></th>\n",
       "      <th>day</th>\n",
       "      <th>case_by_day</th>\n",
       "      <th>death_by_day</th>\n",
       "      <th>twice_injected_by_time</th>\n",
       "      <th>residential_percent_change_from_baseline</th>\n",
       "    </tr>\n",
       "  </thead>\n",
       "  <tbody>\n",
       "    <tr>\n",
       "      <th>0</th>\n",
       "      <td>7/12/2021</td>\n",
       "      <td>965</td>\n",
       "      <td>53</td>\n",
       "      <td>6795458</td>\n",
       "      <td>-1</td>\n",
       "    </tr>\n",
       "    <tr>\n",
       "      <th>1</th>\n",
       "      <td>20/12/2021</td>\n",
       "      <td>687</td>\n",
       "      <td>50</td>\n",
       "      <td>6881361</td>\n",
       "      <td>-2</td>\n",
       "    </tr>\n",
       "    <tr>\n",
       "      <th>2</th>\n",
       "      <td>23/11/2021</td>\n",
       "      <td>1204</td>\n",
       "      <td>62</td>\n",
       "      <td>6053986</td>\n",
       "      <td>0</td>\n",
       "    </tr>\n",
       "    <tr>\n",
       "      <th>3</th>\n",
       "      <td>21/9/2021</td>\n",
       "      <td>6521</td>\n",
       "      <td>184</td>\n",
       "      <td>2052403</td>\n",
       "      <td>14</td>\n",
       "    </tr>\n",
       "    <tr>\n",
       "      <th>4</th>\n",
       "      <td>27/11/2021</td>\n",
       "      <td>1773</td>\n",
       "      <td>57</td>\n",
       "      <td>6547118</td>\n",
       "      <td>3</td>\n",
       "    </tr>\n",
       "  </tbody>\n",
       "</table>\n",
       "</div>"
      ],
      "text/plain": [
       "          day  case_by_day  death_by_day  twice_injected_by_time  \\\n",
       "0   7/12/2021          965            53                 6795458   \n",
       "1  20/12/2021          687            50                 6881361   \n",
       "2  23/11/2021         1204            62                 6053986   \n",
       "3   21/9/2021         6521           184                 2052403   \n",
       "4  27/11/2021         1773            57                 6547118   \n",
       "\n",
       "   residential_percent_change_from_baseline  \n",
       "0                                        -1  \n",
       "1                                        -2  \n",
       "2                                         0  \n",
       "3                                        14  \n",
       "4                                         3  "
      ]
     },
     "execution_count": 25,
     "metadata": {},
     "output_type": "execute_result"
    }
   ],
   "source": [
    "test_data.residential_percent_change_from_baseline = test_data.residential_percent_change_from_baseline.fillna(test_median_percent)\n",
    "test_data"
   ]
  },
  {
   "cell_type": "code",
   "execution_count": 26,
   "id": "713a6d6c",
   "metadata": {},
   "outputs": [],
   "source": [
    "x_train= train_data.drop(['case_by_day','day','death_by_day'], axis=1).values\n",
    "y_train = train_data[['case_by_day','death_by_day']].values"
   ]
  },
  {
   "cell_type": "code",
   "execution_count": 27,
   "id": "bef6480b-be7b-4d0e-b769-022bbbb4d124",
   "metadata": {},
   "outputs": [],
   "source": [
    "x_test = test_data.drop(['case_by_day','day','death_by_day'], axis=1).values\n",
    "y_test = test_data[['case_by_day','death_by_day']].values"
   ]
  },
  {
   "cell_type": "code",
   "execution_count": 28,
   "id": "1cbee28f",
   "metadata": {},
   "outputs": [
    {
     "data": {
      "text/plain": [
       "LinearRegression()"
      ]
     },
     "execution_count": 28,
     "metadata": {},
     "output_type": "execute_result"
    }
   ],
   "source": [
    "from sklearn.linear_model import LinearRegression\n",
    "ml = LinearRegression()\n",
    "ml.fit(x_train, y_train)"
   ]
  },
  {
   "cell_type": "code",
   "execution_count": 29,
   "id": "9d23ba18",
   "metadata": {},
   "outputs": [],
   "source": [
    "y_pred = ml.predict(x_test)"
   ]
  },
  {
   "cell_type": "code",
   "execution_count": 30,
   "id": "e96e93bf",
   "metadata": {},
   "outputs": [
    {
     "data": {
      "text/plain": [
       "0.813339958878845"
      ]
     },
     "execution_count": 30,
     "metadata": {},
     "output_type": "execute_result"
    }
   ],
   "source": [
    "from sklearn.metrics import r2_score\n",
    "r2_score(y_test,y_pred)"
   ]
  },
  {
   "cell_type": "code",
   "execution_count": 31,
   "id": "40d7ad12",
   "metadata": {},
   "outputs": [
    {
     "data": {
      "text/plain": [
       "Text(0.5, 1.0, 'Actual vs. Predicted')"
      ]
     },
     "execution_count": 31,
     "metadata": {},
     "output_type": "execute_result"
    },
    {
     "data": {
      "image/png": "[encoded data removed]",
      "text/plain": [
       "<Figure size 1080x720 with 1 Axes>"
      ]
     },
     "metadata": {
      "needs_background": "light"
     },
     "output_type": "display_data"
    }
   ],
   "source": [
    "import matplotlib.pyplot as plt\n",
    "plt.figure(figsize=(15,10))\n",
    "plt.scatter(y_test, y_pred)\n",
    "plt.xlabel('Actual')\n",
    "plt.ylabel('Predicted')\n",
    "plt.title('Actual vs. Predicted')"
   ]
  },
  {
   "cell_type": "code",
   "execution_count": 32,
   "id": "ef6e116b",
   "metadata": {},
   "outputs": [
    {
     "data": {
      "text/plain": [
       "[               Actual cases  Predicted cases  Difference cases\n",
       " Cases by day            965       737.857592        227.142408\n",
       " Deaths by day            53        32.946323         20.053677,\n",
       "                Actual cases  Predicted cases  Difference cases\n",
       " Cases by day            687       639.629584         47.370416\n",
       " Deaths by day            50        29.244184         20.755816,\n",
       "                Actual cases  Predicted cases  Difference cases\n",
       " Cases by day           1204      1261.449070        -57.449070\n",
       " Deaths by day            62        48.450454         13.549546,\n",
       "                Actual cases  Predicted cases  Difference cases\n",
       " Cases by day           6521      4452.723477       2068.276523\n",
       " Deaths by day           184       150.668809         33.331191,\n",
       "                Actual cases  Predicted cases  Difference cases\n",
       " Cases by day           1773      1068.952743        704.047257\n",
       " Deaths by day            57        46.039728         10.960272]"
      ]
     },
     "execution_count": 32,
     "metadata": {},
     "output_type": "execute_result"
    }
   ],
   "source": [
    "pred_y_df = []\n",
    "for i in range(0,len(y_test)):\n",
    "    pred_y_df.append(pd.DataFrame({'Actual cases':y_test[i],'Predicted cases':y_pred[i], 'Difference cases': y_test[i]-y_pred[i]}, index = [\"Cases by day\", \"Deaths by day\"]))\n",
    "pred_y_df\n"
   ]
  },
  {
   "cell_type": "code",
   "execution_count": 33,
   "id": "9442369a",
   "metadata": {},
   "outputs": [
    {
     "data": {
      "text/plain": [
       "array([[ 737.85759156,   32.94632279],\n",
       "       [ 639.62958434,   29.244184  ],\n",
       "       [1261.4490705 ,   48.45045402],\n",
       "       [4452.72347697,  150.66880851],\n",
       "       [1068.95274274,   46.03972753]])"
      ]
     },
     "execution_count": 33,
     "metadata": {},
     "output_type": "execute_result"
    }
   ],
   "source": [
    "y_pred"
   ]
  },
  {
   "cell_type": "code",
   "execution_count": 34,
   "id": "3d3d927a",
   "metadata": {},
   "outputs": [
    {
     "data": {
      "text/plain": [
       "array([[ 965,   53],\n",
       "       [ 687,   50],\n",
       "       [1204,   62],\n",
       "       [6521,  184],\n",
       "       [1773,   57]])"
      ]
     },
     "execution_count": 34,
     "metadata": {},
     "output_type": "execute_result"
    }
   ],
   "source": [
    "y_test"
   ]
  },
  {
   "cell_type": "code",
   "execution_count": null,
   "id": "985311a5",
   "metadata": {},
   "outputs": [],
   "source": []
  }
 ],
 "metadata": {
  "kernelspec": {
   "display_name": "Python 3 (ipykernel)",
   "language": "python",
   "name": "python3"
  },
  "language_info": {
   "codemirror_mode": {
    "name": "ipython",
    "version": 3
   },
   "file_extension": ".py",
   "mimetype": "text/x-python",
   "name": "python",
   "nbconvert_exporter": "python",
   "pygments_lexer": "ipython3",
   "version": "3.9.7"
  }
 },
 "nbformat": 4,
 "nbformat_minor": 5
}
