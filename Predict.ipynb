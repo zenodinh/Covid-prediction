{
 "cells": [
  {
   "cell_type": "code",
   "execution_count": 168,
   "id": "b0b2b7bb",
   "metadata": {},
   "outputs": [],
   "source": [
    "#install library\n",
    "import pandas as pd"
   ]
  },
  {
   "cell_type": "code",
   "execution_count": 169,
   "id": "d93ff7f5",
   "metadata": {},
   "outputs": [],
   "source": [
    "# Read data from csv\n",
    "data = pd.read_csv('covid_data.csv')"
   ]
  },
  {
   "cell_type": "code",
   "execution_count": 170,
   "id": "5178aacd-44a7-419a-b619-73e4334dc4f2",
   "metadata": {},
   "outputs": [
    {
     "data": {
      "text/html": [
       "<div>\n",
       "<style scoped>\n",
       "    .dataframe tbody tr th:only-of-type {\n",
       "        vertical-align: middle;\n",
       "    }\n",
       "\n",
       "    .dataframe tbody tr th {\n",
       "        vertical-align: top;\n",
       "    }\n",
       "\n",
       "    .dataframe thead th {\n",
       "        text-align: right;\n",
       "    }\n",
       "</style>\n",
       "<table border=\"1\" class=\"dataframe\">\n",
       "  <thead>\n",
       "    <tr style=\"text-align: right;\">\n",
       "      <th></th>\n",
       "      <th>day</th>\n",
       "      <th>case_by_day</th>\n",
       "      <th>death_by_day</th>\n",
       "      <th>twice_injected_by_time</th>\n",
       "      <th>residential_percent_change_from_baseline</th>\n",
       "    </tr>\n",
       "  </thead>\n",
       "  <tbody>\n",
       "    <tr>\n",
       "      <th>0</th>\n",
       "      <td>13/9/2021</td>\n",
       "      <td>5446</td>\n",
       "      <td>228</td>\n",
       "      <td>0</td>\n",
       "      <td>19</td>\n",
       "    </tr>\n",
       "    <tr>\n",
       "      <th>1</th>\n",
       "      <td>14/9/2021</td>\n",
       "      <td>6312</td>\n",
       "      <td>199</td>\n",
       "      <td>103325</td>\n",
       "      <td>18</td>\n",
       "    </tr>\n",
       "    <tr>\n",
       "      <th>2</th>\n",
       "      <td>15/9/2021</td>\n",
       "      <td>5301</td>\n",
       "      <td>189</td>\n",
       "      <td>86175</td>\n",
       "      <td>16</td>\n",
       "    </tr>\n",
       "    <tr>\n",
       "      <th>3</th>\n",
       "      <td>16/9/2021</td>\n",
       "      <td>5735</td>\n",
       "      <td>160</td>\n",
       "      <td>103239</td>\n",
       "      <td>14</td>\n",
       "    </tr>\n",
       "    <tr>\n",
       "      <th>4</th>\n",
       "      <td>17/9/2021</td>\n",
       "      <td>5972</td>\n",
       "      <td>166</td>\n",
       "      <td>0</td>\n",
       "      <td>19</td>\n",
       "    </tr>\n",
       "    <tr>\n",
       "      <th>...</th>\n",
       "      <td>...</td>\n",
       "      <td>...</td>\n",
       "      <td>...</td>\n",
       "      <td>...</td>\n",
       "      <td>...</td>\n",
       "    </tr>\n",
       "    <tr>\n",
       "      <th>105</th>\n",
       "      <td>27/12/2021</td>\n",
       "      <td>560</td>\n",
       "      <td>24</td>\n",
       "      <td>6297</td>\n",
       "      <td>-2</td>\n",
       "    </tr>\n",
       "    <tr>\n",
       "      <th>106</th>\n",
       "      <td>28/12/2021</td>\n",
       "      <td>671</td>\n",
       "      <td>29</td>\n",
       "      <td>6973</td>\n",
       "      <td>-3</td>\n",
       "    </tr>\n",
       "    <tr>\n",
       "      <th>107</th>\n",
       "      <td>29/12/2021</td>\n",
       "      <td>702</td>\n",
       "      <td>37</td>\n",
       "      <td>10981</td>\n",
       "      <td>-4</td>\n",
       "    </tr>\n",
       "    <tr>\n",
       "      <th>108</th>\n",
       "      <td>30/12/2021</td>\n",
       "      <td>697</td>\n",
       "      <td>30</td>\n",
       "      <td>11232</td>\n",
       "      <td>-6</td>\n",
       "    </tr>\n",
       "    <tr>\n",
       "      <th>109</th>\n",
       "      <td>31/12/2021</td>\n",
       "      <td>557</td>\n",
       "      <td>27</td>\n",
       "      <td>0</td>\n",
       "      <td>-3</td>\n",
       "    </tr>\n",
       "  </tbody>\n",
       "</table>\n",
       "<p>110 rows × 5 columns</p>\n",
       "</div>"
      ],
      "text/plain": [
       "            day  case_by_day  death_by_day  twice_injected_by_time  \\\n",
       "0     13/9/2021         5446           228                       0   \n",
       "1     14/9/2021         6312           199                  103325   \n",
       "2     15/9/2021         5301           189                   86175   \n",
       "3     16/9/2021         5735           160                  103239   \n",
       "4     17/9/2021         5972           166                       0   \n",
       "..          ...          ...           ...                     ...   \n",
       "105  27/12/2021          560            24                    6297   \n",
       "106  28/12/2021          671            29                    6973   \n",
       "107  29/12/2021          702            37                   10981   \n",
       "108  30/12/2021          697            30                   11232   \n",
       "109  31/12/2021          557            27                       0   \n",
       "\n",
       "     residential_percent_change_from_baseline  \n",
       "0                                          19  \n",
       "1                                          18  \n",
       "2                                          16  \n",
       "3                                          14  \n",
       "4                                          19  \n",
       "..                                        ...  \n",
       "105                                        -2  \n",
       "106                                        -3  \n",
       "107                                        -4  \n",
       "108                                        -6  \n",
       "109                                        -3  \n",
       "\n",
       "[110 rows x 5 columns]"
      ]
     },
     "execution_count": 170,
     "metadata": {},
     "output_type": "execute_result"
    }
   ],
   "source": [
    "# print data\n",
    "data"
   ]
  },
  {
   "cell_type": "code",
   "execution_count": 171,
   "id": "1b3e6625",
   "metadata": {},
   "outputs": [
    {
     "data": {
      "text/plain": [
       "1"
      ]
     },
     "execution_count": 171,
     "metadata": {},
     "output_type": "execute_result"
    }
   ],
   "source": [
    "import math\n",
    "median_percent = math.floor(data.residential_percent_change_from_baseline.median())\n",
    "median_percent\n"
   ]
  },
  {
   "cell_type": "code",
   "execution_count": 172,
   "id": "749612c9",
   "metadata": {},
   "outputs": [
    {
     "data": {
      "text/html": [
       "<div>\n",
       "<style scoped>\n",
       "    .dataframe tbody tr th:only-of-type {\n",
       "        vertical-align: middle;\n",
       "    }\n",
       "\n",
       "    .dataframe tbody tr th {\n",
       "        vertical-align: top;\n",
       "    }\n",
       "\n",
       "    .dataframe thead th {\n",
       "        text-align: right;\n",
       "    }\n",
       "</style>\n",
       "<table border=\"1\" class=\"dataframe\">\n",
       "  <thead>\n",
       "    <tr style=\"text-align: right;\">\n",
       "      <th></th>\n",
       "      <th>day</th>\n",
       "      <th>case_by_day</th>\n",
       "      <th>death_by_day</th>\n",
       "      <th>twice_injected_by_time</th>\n",
       "      <th>residential_percent_change_from_baseline</th>\n",
       "    </tr>\n",
       "  </thead>\n",
       "  <tbody>\n",
       "    <tr>\n",
       "      <th>0</th>\n",
       "      <td>13/9/2021</td>\n",
       "      <td>5446</td>\n",
       "      <td>228</td>\n",
       "      <td>0</td>\n",
       "      <td>19</td>\n",
       "    </tr>\n",
       "    <tr>\n",
       "      <th>1</th>\n",
       "      <td>14/9/2021</td>\n",
       "      <td>6312</td>\n",
       "      <td>199</td>\n",
       "      <td>103325</td>\n",
       "      <td>18</td>\n",
       "    </tr>\n",
       "    <tr>\n",
       "      <th>2</th>\n",
       "      <td>15/9/2021</td>\n",
       "      <td>5301</td>\n",
       "      <td>189</td>\n",
       "      <td>86175</td>\n",
       "      <td>16</td>\n",
       "    </tr>\n",
       "    <tr>\n",
       "      <th>3</th>\n",
       "      <td>16/9/2021</td>\n",
       "      <td>5735</td>\n",
       "      <td>160</td>\n",
       "      <td>103239</td>\n",
       "      <td>14</td>\n",
       "    </tr>\n",
       "    <tr>\n",
       "      <th>4</th>\n",
       "      <td>17/9/2021</td>\n",
       "      <td>5972</td>\n",
       "      <td>166</td>\n",
       "      <td>0</td>\n",
       "      <td>19</td>\n",
       "    </tr>\n",
       "    <tr>\n",
       "      <th>...</th>\n",
       "      <td>...</td>\n",
       "      <td>...</td>\n",
       "      <td>...</td>\n",
       "      <td>...</td>\n",
       "      <td>...</td>\n",
       "    </tr>\n",
       "    <tr>\n",
       "      <th>105</th>\n",
       "      <td>27/12/2021</td>\n",
       "      <td>560</td>\n",
       "      <td>24</td>\n",
       "      <td>6297</td>\n",
       "      <td>-2</td>\n",
       "    </tr>\n",
       "    <tr>\n",
       "      <th>106</th>\n",
       "      <td>28/12/2021</td>\n",
       "      <td>671</td>\n",
       "      <td>29</td>\n",
       "      <td>6973</td>\n",
       "      <td>-3</td>\n",
       "    </tr>\n",
       "    <tr>\n",
       "      <th>107</th>\n",
       "      <td>29/12/2021</td>\n",
       "      <td>702</td>\n",
       "      <td>37</td>\n",
       "      <td>10981</td>\n",
       "      <td>-4</td>\n",
       "    </tr>\n",
       "    <tr>\n",
       "      <th>108</th>\n",
       "      <td>30/12/2021</td>\n",
       "      <td>697</td>\n",
       "      <td>30</td>\n",
       "      <td>11232</td>\n",
       "      <td>-6</td>\n",
       "    </tr>\n",
       "    <tr>\n",
       "      <th>109</th>\n",
       "      <td>31/12/2021</td>\n",
       "      <td>557</td>\n",
       "      <td>27</td>\n",
       "      <td>0</td>\n",
       "      <td>-3</td>\n",
       "    </tr>\n",
       "  </tbody>\n",
       "</table>\n",
       "<p>110 rows × 5 columns</p>\n",
       "</div>"
      ],
      "text/plain": [
       "            day  case_by_day  death_by_day  twice_injected_by_time  \\\n",
       "0     13/9/2021         5446           228                       0   \n",
       "1     14/9/2021         6312           199                  103325   \n",
       "2     15/9/2021         5301           189                   86175   \n",
       "3     16/9/2021         5735           160                  103239   \n",
       "4     17/9/2021         5972           166                       0   \n",
       "..          ...          ...           ...                     ...   \n",
       "105  27/12/2021          560            24                    6297   \n",
       "106  28/12/2021          671            29                    6973   \n",
       "107  29/12/2021          702            37                   10981   \n",
       "108  30/12/2021          697            30                   11232   \n",
       "109  31/12/2021          557            27                       0   \n",
       "\n",
       "     residential_percent_change_from_baseline  \n",
       "0                                          19  \n",
       "1                                          18  \n",
       "2                                          16  \n",
       "3                                          14  \n",
       "4                                          19  \n",
       "..                                        ...  \n",
       "105                                        -2  \n",
       "106                                        -3  \n",
       "107                                        -4  \n",
       "108                                        -6  \n",
       "109                                        -3  \n",
       "\n",
       "[110 rows x 5 columns]"
      ]
     },
     "execution_count": 172,
     "metadata": {},
     "output_type": "execute_result"
    }
   ],
   "source": [
    "data.residential_percent_change_from_baseline = data.residential_percent_change_from_baseline.fillna(median_percent)\n",
    "data"
   ]
  },
  {
   "cell_type": "code",
   "execution_count": 173,
   "id": "713a6d6c",
   "metadata": {},
   "outputs": [],
   "source": [
    "x= data.drop(['case_by_day','day','death_by_day'], axis=1).values\n",
    "y = data[['case_by_day','death_by_day']].values"
   ]
  },
  {
   "cell_type": "code",
   "execution_count": 174,
   "id": "6f8db4e4",
   "metadata": {},
   "outputs": [],
   "source": [
    "from sklearn.model_selection import train_test_split\n",
    "x_train, x_test, y_train, y_test = train_test_split(x,y,test_size=0.1,random_state=0)"
   ]
  },
  {
   "cell_type": "code",
   "execution_count": 175,
   "id": "1cbee28f",
   "metadata": {},
   "outputs": [
    {
     "data": {
      "text/plain": [
       "LinearRegression()"
      ]
     },
     "execution_count": 175,
     "metadata": {},
     "output_type": "execute_result"
    }
   ],
   "source": [
    "from sklearn.linear_model import LinearRegression\n",
    "ml = LinearRegression()\n",
    "ml.fit(x_train, y_train)"
   ]
  },
  {
   "cell_type": "code",
   "execution_count": 176,
   "id": "9d23ba18",
   "metadata": {},
   "outputs": [],
   "source": [
    "y_pred = ml.predict(x_test)"
   ]
  },
  {
   "cell_type": "code",
   "execution_count": 177,
   "id": "e96e93bf",
   "metadata": {},
   "outputs": [
    {
     "data": {
      "text/plain": [
       "0.8036932814208517"
      ]
     },
     "execution_count": 177,
     "metadata": {},
     "output_type": "execute_result"
    }
   ],
   "source": [
    "from sklearn.metrics import r2_score\n",
    "r2_score(y_test,y_pred)"
   ]
  },
  {
   "cell_type": "code",
   "execution_count": 178,
   "id": "40d7ad12",
   "metadata": {},
   "outputs": [
    {
     "data": {
      "text/plain": [
       "Text(0.5, 1.0, 'Actual vs. Predicted')"
      ]
     },
     "execution_count": 178,
     "metadata": {},
     "output_type": "execute_result"
    },
    {
     "data": {
      "image/png": "[encoded data removed]",
      "text/plain": [
       "<Figure size 1080x720 with 1 Axes>"
      ]
     },
     "metadata": {
      "needs_background": "light"
     },
     "output_type": "display_data"
    }
   ],
   "source": [
    "import matplotlib.pyplot as plt\n",
    "plt.figure(figsize=(15,10))\n",
    "plt.scatter(y_test, y_pred)\n",
    "plt.xlabel('Actual')\n",
    "plt.ylabel('Predicted')\n",
    "plt.title('Actual vs. Predicted')"
   ]
  },
  {
   "cell_type": "code",
   "execution_count": 179,
   "id": "ef6e116b",
   "metadata": {},
   "outputs": [
    {
     "data": {
      "text/plain": [
       "[               Actual cases  Predected cases  Difference cases\n",
       " Cases by day            965      1017.155774        -52.155774\n",
       " Deaths by day            53        42.041744         10.958256,\n",
       "                Actual cases  Predected cases  Difference cases\n",
       " Cases by day           5052      3287.766341       1764.233659\n",
       " Deaths by day           175       116.538775         58.461225,\n",
       "                Actual cases  Predected cases  Difference cases\n",
       " Cases by day           1773      1875.594893       -102.594893\n",
       " Deaths by day            57        68.544710        -11.544710,\n",
       "                Actual cases  Predected cases  Difference cases\n",
       " Cases by day           5301      4297.189624       1003.810376\n",
       " Deaths by day           189       148.620958         40.379042,\n",
       "                Actual cases  Predected cases  Difference cases\n",
       " Cases by day           1730      1857.748780       -127.748780\n",
       " Deaths by day            92        68.251174         23.748826,\n",
       "                Actual cases  Predected cases  Difference cases\n",
       " Cases by day            787        65.576760        721.423240\n",
       " Deaths by day            34        10.910992         23.089008,\n",
       "                Actual cases  Predected cases  Difference cases\n",
       " Cases by day            557       634.198451        -77.198451\n",
       " Deaths by day            27        29.551189         -2.551189,\n",
       "                Actual cases  Predected cases  Difference cases\n",
       " Cases by day           5171      4258.757847        912.242153\n",
       " Deaths by day           163       147.988826         15.011174,\n",
       "                Actual cases  Predected cases  Difference cases\n",
       " Cases by day           4699      3651.306504       1047.693496\n",
       " Deaths by day           113       122.518343         -9.518343,\n",
       "                Actual cases  Predected cases  Difference cases\n",
       " Cases by day            915       823.739014         91.260986\n",
       " Deaths by day            65        35.764588         29.235412,\n",
       "                Actual cases  Predected cases  Difference cases\n",
       " Cases by day           1046      1596.001539       -550.001539\n",
       " Deaths by day            42        60.850108        -18.850108]"
      ]
     },
     "execution_count": 179,
     "metadata": {},
     "output_type": "execute_result"
    }
   ],
   "source": [
    "pred_y_df = []\n",
    "for i in range(0,len(y_test)):\n",
    "    pred_y_df.append(pd.DataFrame({'Actual cases':y_test[i],'Predected cases':y_pred[i], 'Difference cases': y_test[i]-y_pred[i]}, index = [\"Cases by day\", \"Deaths by day\"]))\n",
    "pred_y_df\n"
   ]
  },
  {
   "cell_type": "code",
   "execution_count": 180,
   "id": "9442369a",
   "metadata": {},
   "outputs": [
    {
     "data": {
      "text/plain": [
       "array([[1017.15577354,   42.04174353],\n",
       "       [3287.76634133,  116.53877509],\n",
       "       [1875.59489305,   68.5447098 ],\n",
       "       [4297.18962428,  148.62095837],\n",
       "       [1857.74877964,   68.251174  ],\n",
       "       [  65.57675986,   10.91099228],\n",
       "       [ 634.19845071,   29.55118925],\n",
       "       [4258.7578468 ,  147.98882619],\n",
       "       [3651.30650444,  122.5183433 ],\n",
       "       [ 823.73901433,   35.76458824],\n",
       "       [1596.00153908,   60.85010775]])"
      ]
     },
     "execution_count": 180,
     "metadata": {},
     "output_type": "execute_result"
    }
   ],
   "source": [
    "y_pred"
   ]
  },
  {
   "cell_type": "code",
   "execution_count": 181,
   "id": "3d3d927a",
   "metadata": {},
   "outputs": [
    {
     "data": {
      "text/plain": [
       "array([[ 965,   53],\n",
       "       [5052,  175],\n",
       "       [1773,   57],\n",
       "       [5301,  189],\n",
       "       [1730,   92],\n",
       "       [ 787,   34],\n",
       "       [ 557,   27],\n",
       "       [5171,  163],\n",
       "       [4699,  113],\n",
       "       [ 915,   65],\n",
       "       [1046,   42]])"
      ]
     },
     "execution_count": 181,
     "metadata": {},
     "output_type": "execute_result"
    }
   ],
   "source": [
    "y_test"
   ]
  },
  {
   "cell_type": "code",
   "execution_count": null,
   "id": "985311a5",
   "metadata": {},
   "outputs": [],
   "source": []
  }
 ],
 "metadata": {
  "kernelspec": {
   "display_name": "Python 3 (ipykernel)",
   "language": "python",
   "name": "python3"
  },
  "language_info": {
   "codemirror_mode": {
    "name": "ipython",
    "version": 3
   },
   "file_extension": ".py",
   "mimetype": "text/x-python",
   "name": "python",
   "nbconvert_exporter": "python",
   "pygments_lexer": "ipython3",
   "version": "3.9.7"
  }
 },
 "nbformat": 4,
 "nbformat_minor": 5
}
